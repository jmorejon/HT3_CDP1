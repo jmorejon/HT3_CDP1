{
 "cells": [
  {
   "cell_type": "code",
   "execution_count": null,
   "metadata": {},
   "outputs": [],
   "source": [
    "import numpy as np\n",
    "\n",
    "class regresion():\n",
    "    def __init__(self, x, y):\n",
    "        self.beta0 = 0\n",
    "        self.beta1 = 0\n",
    "        self.x = x\n",
    "        self.y = y\n",
    "    \n",
    "    def predict(self, val):\n",
    "        \n",
    "    def predictN(self, vals):\n",
    "        \n",
    "    def r2(self):\n",
    "        \n",
    "    def r(self):\n",
    "        \n",
    "    getAllParams(self):\n",
    "        \n",
    "    @classmethod\n",
    "    def from_file(cls, path):\n",
    "        return cls(np.genfromtxt(path,delimiter=',',dtype=None))"
   ]
  }
 ],
 "metadata": {
  "kernelspec": {
   "display_name": "Python 3",
   "language": "python",
   "name": "python3"
  },
  "language_info": {
   "codemirror_mode": {
    "name": "ipython",
    "version": 3
   },
   "file_extension": ".py",
   "mimetype": "text/x-python",
   "name": "python",
   "nbconvert_exporter": "python",
   "pygments_lexer": "ipython3",
   "version": "3.8.5"
  }
 },
 "nbformat": 4,
 "nbformat_minor": 4
}
